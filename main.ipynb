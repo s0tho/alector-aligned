{
 "cells": [
  {
   "cell_type": "markdown",
   "metadata": {},
   "source": [
    "## Import"
   ]
  },
  {
   "cell_type": "code",
   "execution_count": 82,
   "metadata": {},
   "outputs": [],
   "source": [
    "import os\n",
    "import json\n",
    "import pandas\n",
    "import matplotlib.pyplot as plt\n",
    "from nltk import sent_tokenize, word_tokenize\n",
    "from nltk.tokenize import SyllableTokenizer\n",
    "from lexicalrichness import LexicalRichness"
   ]
  },
  {
   "cell_type": "markdown",
   "metadata": {},
   "source": [
    "## Metrics"
   ]
  },
  {
   "cell_type": "markdown",
   "metadata": {},
   "source": [
    "### Word and Character count"
   ]
  },
  {
   "cell_type": "code",
   "execution_count": 83,
   "metadata": {},
   "outputs": [],
   "source": [
    "def get_words_count(text):\n",
    "    words = word_tokenize(text)\n",
    "    return len(words)"
   ]
  },
  {
   "cell_type": "markdown",
   "metadata": {},
   "source": [
    "### Flesch Reading Ease"
   ]
  },
  {
   "cell_type": "code",
   "execution_count": 84,
   "metadata": {},
   "outputs": [],
   "source": [
    "def calculate_FRE_score(text:str, lang:str=\"fr\") -> float:\n",
    "    \"\"\"Calculate Flesch Reading Ease per sentence\n",
    "\n",
    "    en: 206.835 - 1.015 * (total_words/total_sentences) - 84.6 * (total_syllabes/total_words) \n",
    "    fr: 207 - 1.015 * (total_words/total_sentences) - 73.6 * (total_syllabes/total_words) \n",
    "\n",
    "    Args:\n",
    "        text (str): a given text\n",
    "    \"\"\"\n",
    "\n",
    "    x = 206.835\n",
    "    y = 84.6\n",
    "    total_words = 0\n",
    "    total_syllabes = 0\n",
    "    SSP = SyllableTokenizer()\n",
    "\n",
    "    if lang==\"fr\":\n",
    "        x = 207\n",
    "        y = 73.6\n",
    "\n",
    "    sentences = sent_tokenize(text)\n",
    "    total_sentences = len(sentences)\n",
    "\n",
    "    for sentence in sentences:\n",
    "        words = word_tokenize(sentence)\n",
    "        total_words += len(words)\n",
    "\n",
    "        for word in words:\n",
    "            syllabes = SSP.tokenize(word)\n",
    "            total_syllabes += len(syllabes)\n",
    "     \n",
    "    return x - 1.015 * (total_words/total_sentences) - y * (total_syllabes/total_words)"
   ]
  },
  {
   "cell_type": "markdown",
   "metadata": {},
   "source": [
    "### Lexical Richness"
   ]
  },
  {
   "cell_type": "code",
   "execution_count": 85,
   "metadata": {},
   "outputs": [],
   "source": [
    "\n",
    "def calculate_LR(text:str, lang:str=\"fr\") -> float:\n",
    "    sentences = sent_tokenize(text)\n",
    "    for sentence in sentences:\n",
    "        lex = LexicalRichness(sentence)\n",
    "        return lex.mtld()\n"
   ]
  },
  {
   "cell_type": "markdown",
   "metadata": {},
   "source": [
    "### Get metrics"
   ]
  },
  {
   "cell_type": "code",
   "execution_count": 86,
   "metadata": {},
   "outputs": [],
   "source": [
    "def get_metrics_from_file(fpath):\n",
    "\n",
    "    # print(fpath.upper())\n",
    "    fre_scores = []\n",
    "    lr_scores = []\n",
    "    word_count = []\n",
    "    with open(fpath, \"r\", encoding=\"utf-8\") as f:\n",
    "        line = f.readline()\n",
    "        while line:\n",
    "            fre_scores.append(calculate_FRE_score(line))\n",
    "            lr_scores.append(calculate_LR(line))\n",
    "            word_count.append(get_words_count(line))\n",
    "            line = f.readline()\n",
    "            \n",
    "    \n",
    "    avg_fre_score = sum(fre_scores) / len(fre_scores)\n",
    "    avg_lr_score = sum(lr_scores) / len(lr_scores)\n",
    "    avg_word_count = sum(word_count) / len(word_count)\n",
    "\n",
    "    return fre_scores, avg_fre_score, lr_scores, avg_lr_score, word_count, avg_word_count"
   ]
  },
  {
   "cell_type": "markdown",
   "metadata": {},
   "source": [
    "## Datasets"
   ]
  },
  {
   "cell_type": "markdown",
   "metadata": {},
   "source": [
    "#### Alector"
   ]
  },
  {
   "cell_type": "code",
   "execution_count": 87,
   "metadata": {},
   "outputs": [],
   "source": [
    "\n",
    "def alector(path=\"alector_aligned\"):\n",
    "    dic = {}\n",
    "    for folder in os.listdir(path):\n",
    "        folderpath = os.path.join(path, folder)\n",
    "        text_type = folderpath.split(\"\\\\\")[-1]\n",
    "\n",
    "        for fname in os.listdir(folderpath):\n",
    "            fpath = os.path.join(folderpath, fname)\n",
    "            name, data_type = fname.split(\"_\")\n",
    "            name = name\n",
    "            data_type = data_type.replace(\".txt\", \"\")\n",
    "            if name not in dic.keys(): \n",
    "                dic[name] = {}\n",
    "                dic[name][\"text_type\"] = text_type\n",
    "\n",
    "            fre_scores, avg_fre_score, lr_scores, avg_lr_score, word_count, avg_word_count = get_metrics_from_file(fpath)\n",
    "            dic[name][data_type] = {}\n",
    "            dic[name][data_type][\"fre_scores\"] = fre_scores\n",
    "            dic[name][data_type][\"avg_fre_score\"] = avg_fre_score\n",
    "            dic[name][data_type][\"lr_scores\"] = lr_scores\n",
    "            dic[name][data_type][\"avg_lr_score\"] = avg_lr_score\n",
    "            dic[name][data_type][\"word_count\"] = word_count\n",
    "            dic[name][data_type][\"avg_word_count\"] = avg_word_count\n",
    "\n",
    "    keys = dic.keys()\n",
    "    sorted_keys = sorted(keys)\n",
    "    sorted_dic = {}\n",
    "    for key in sorted_keys:\n",
    "        sorted_dic[key] = dic[key]\n",
    "\n",
    "    with open('alector_metrics.json', 'w') as fp:\n",
    "        json.dump(sorted_dic, fp)\n",
    "\n",
    "    return sorted_dic\n",
    "\n"
   ]
  },
  {
   "cell_type": "code",
   "execution_count": 88,
   "metadata": {},
   "outputs": [],
   "source": [
    "def alector_plot(dic, text_type:str, score:str, lims:list, only_hist=True):\n",
    "    \n",
    "    source_avg = []\n",
    "    target_avg = []\n",
    "    x = []\n",
    "    for item in dic:\n",
    "        if dic[item][\"text_type\"] == text_type or text_type == \"everything\":\n",
    "            source_avg.append(dic[item][\"source\"][score])\n",
    "            target_avg.append(dic[item][\"target\"][score])\n",
    "            x.append(item)\n",
    "\n",
    "    print(len(source_avg), \"ressources\")\n",
    "        \n",
    "    if not only_hist:\n",
    "        plt.figure(figsize=(20,5))\n",
    "        plt.plot(x, source_avg, label = \"source\")\n",
    "        plt.axhline(y=sum(source_avg) / len(source_avg), color='cyan', linestyle='--', linewidth=2, label='Avg_source')\n",
    "        plt.plot(x, target_avg, label = \"target\")\n",
    "        plt.axhline(y=sum(target_avg) / len(target_avg), color='red', linestyle='--', linewidth=2, label='Avg_target')\n",
    "\n",
    "        plt.xlabel('Number of the file')\n",
    "        plt.ylabel(f'{score} Score')\n",
    "        plt.title(f\"{score} score per file ({text_type})\")\n",
    "\n",
    "        plt.ylim(lims[0], lims[1])\n",
    "        plt.legend()\n",
    "        plt.show()\n",
    "\n",
    "    plt.figure(figsize=(20,5))\n",
    "    substracted = list()\n",
    "    if score == \"avg_fre_score\":\n",
    "        for tar_item, src_item in zip(target_avg, source_avg):\n",
    "            substracted.append(tar_item - src_item)\n",
    "        label = \"target - source\"\n",
    "\n",
    "        plt.hist(substracted, label = label)\n",
    "\n",
    "    if score == \"avg_lr_score\"  or score == \"avg_word_count\":\n",
    "        for tar_item, src_item in zip(target_avg, source_avg):\n",
    "            substracted.append(src_item - tar_item)\n",
    "        label = \"source - target\"\n",
    "\n",
    "        plt.hist(substracted, label = label)\n",
    "        \n",
    "    plt.legend()\n",
    "    plt.title(f\"{score} score difference per file ({text_type}) - [{label}]\")\n"
   ]
  },
  {
   "cell_type": "code",
   "execution_count": 89,
   "metadata": {},
   "outputs": [
    {
     "name": "stdout",
     "output_type": "stream",
     "text": [
      "37 ressources\n",
      "37 ressources\n",
      "37 ressources\n"
     ]
    },
    {
     "data": {
      "image/png": "[encoded data removed]",
      "text/plain": [
       "<Figure size 1440x360 with 1 Axes>"
      ]
     },
     "metadata": {},
     "output_type": "display_data"
    },
    {
     "data": {
      "image/png": "[encoded data removed]",
      "text/plain": [
       "<Figure size 1440x360 with 1 Axes>"
      ]
     },
     "metadata": {},
     "output_type": "display_data"
    },
    {
     "data": {
      "image/png": "[encoded data removed]",
      "text/plain": [
       "<Figure size 1440x360 with 1 Axes>"
      ]
     },
     "metadata": {},
     "output_type": "display_data"
    }
   ],
   "source": [
    "try:\n",
    "    with open('alector_metrics.json', 'r') as fp:\n",
    "        dic = json.load(fp)\n",
    "except:\n",
    "    dic = alector()\n",
    "\n",
    "# text_types = [\"contes\", \"documentaires\", \"everything\"]\n",
    "text_types = [\"documentaires\"]\n",
    "\n",
    "for text_type in text_types:\n",
    "    # Flesch Reading Ease\n",
    "    alector_plot(dic, text_type, \"avg_fre_score\", [0, 100])\n",
    "    # Measure of Lexical Diversity (McCarthy 2005, McCarthy and Jarvis 2010)\n",
    "    alector_plot(dic, text_type, \"avg_lr_score\", [0, 100])\n",
    "    # Word count\n",
    "    alector_plot(dic, text_type, \"avg_word_count\", [0, 50])"
   ]
  },
  {
   "cell_type": "markdown",
   "metadata": {},
   "source": [
    "#### Translated Datasets Comparisons"
   ]
  }
 ],
 "metadata": {
  "kernelspec": {
   "display_name": "Python 3.10.4 ('.env': venv)",
   "language": "python",
   "name": "python3"
  },
  "language_info": {
   "codemirror_mode": {
    "name": "ipython",
    "version": 3
   },
   "file_extension": ".py",
   "mimetype": "text/x-python",
   "name": "python",
   "nbconvert_exporter": "python",
   "pygments_lexer": "ipython3",
   "version": "3.10.4"
  },
  "orig_nbformat": 4,
  "vscode": {
   "interpreter": {
    "hash": "e9b2208b36fcdffefbe21c991036cce104e7b9c75cb5a536d5d41701b392b183"
   }
  }
 },
 "nbformat": 4,
 "nbformat_minor": 2
}
